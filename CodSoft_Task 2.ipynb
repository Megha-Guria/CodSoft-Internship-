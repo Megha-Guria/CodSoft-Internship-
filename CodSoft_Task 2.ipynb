{
 "cells": [
  {
   "cell_type": "code",
   "execution_count": 5,
   "id": "8fc6b169-697e-451e-90b1-3c501825b59a",
   "metadata": {},
   "outputs": [
    {
     "name": "stdout",
     "output_type": "stream",
     "text": [
      "Simple Calculator\n",
      "Operations:\n",
      "1. Addition (+)\n",
      "2. Subtraction (-)\n",
      "3. Multiplication (*)\n",
      "4. Division (/)\n"
     ]
    },
    {
     "name": "stdin",
     "output_type": "stream",
     "text": [
      "Enter first number:  9\n",
      "Enter second number:  19\n",
      "Enter operation (+, -, *, /):  *\n"
     ]
    },
    {
     "name": "stdout",
     "output_type": "stream",
     "text": [
      "Result: 9.0 * 19.0 = 171.0\n"
     ]
    }
   ],
   "source": [
    "def Calculator():\n",
    "    print(\"Simple Calculator\")\n",
    "    print(\"Operations:\")\n",
    "    print(\"1. Addition (+)\")\n",
    "    print(\"2. Subtraction (-)\")\n",
    "    print(\"3. Multiplication (*)\")\n",
    "    print(\"4. Division (/)\")\n",
    "    \n",
    "    try:\n",
    "        number1 = float(input(\"Enter first number: \"))\n",
    "        number2 = float(input(\"Enter second number: \"))\n",
    "        operation = input(\"Enter operation (+, -, *, /): \").strip()\n",
    "        \n",
    "\n",
    "        if operation == '+':\n",
    "            result = number1 + number2\n",
    "            print(f\"Result: {number1} + {number2} = {result}\")\n",
    "        elif operation == '-':\n",
    "            result = number1 - number2\n",
    "            print(f\"Result: {number1} - {number2} = {result}\")\n",
    "        elif operation == '*':\n",
    "            result = number1 * number2\n",
    "            print(f\"Result: {number1} * {number2} = {result}\")\n",
    "        elif operation == '/':\n",
    "            if number2 == 0:\n",
    "                print(\"Error: Division by zero is not allowed...!\")\n",
    "            else:\n",
    "                result = number1 / number2\n",
    "                print(f\"Result: {number1} / {number2} = {result}\")\n",
    "        else:\n",
    "            print(\"Invalid operation...! Please choose from +, -, *, /\")\n",
    "    \n",
    "    except ValueError:\n",
    "        print(\"Error: Please enter valid numbers...!\")\n",
    "    except Exception as e:\n",
    "        print(f\"An error occurred: {e}\")\n",
    "\n",
    "Calculator()"
   ]
  },
  {
   "cell_type": "code",
   "execution_count": null,
   "id": "1af37ad9-540d-4aff-80ad-a831838aec03",
   "metadata": {},
   "outputs": [],
   "source": []
  }
 ],
 "metadata": {
  "kernelspec": {
   "display_name": "Python [conda env:base] *",
   "language": "python",
   "name": "conda-base-py"
  },
  "language_info": {
   "codemirror_mode": {
    "name": "ipython",
    "version": 3
   },
   "file_extension": ".py",
   "mimetype": "text/x-python",
   "name": "python",
   "nbconvert_exporter": "python",
   "pygments_lexer": "ipython3",
   "version": "3.12.7"
  }
 },
 "nbformat": 4,
 "nbformat_minor": 5
}
