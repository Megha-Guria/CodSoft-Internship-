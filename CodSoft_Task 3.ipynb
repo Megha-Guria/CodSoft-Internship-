{
 "cells": [
  {
   "cell_type": "code",
   "execution_count": 17,
   "id": "5d2a3d30-9dcd-417c-9036-fed89595b7c1",
   "metadata": {},
   "outputs": [
    {
     "name": "stdout",
     "output_type": "stream",
     "text": [
      "Password Generator\n"
     ]
    },
    {
     "name": "stdin",
     "output_type": "stream",
     "text": [
      "Enter desired password length (6-20):  6\n"
     ]
    },
    {
     "name": "stdout",
     "output_type": "stream",
     "text": [
      "\n",
      "Generated Password:\n",
      "xC&6Va\n",
      "\n",
      "Note: Make sure to store this password securely!\n"
     ]
    }
   ],
   "source": [
    "\n",
    "import random\n",
    "import string\n",
    "\n",
    "def Generate_Password():\n",
    "    print(\"Password Generator\")\n",
    "    try:\n",
    "        length = int(input(\"Enter desired password length (6-20): \"))\n",
    "        \n",
    "        if length < 6 or length > 20:\n",
    "            print(\"Password length should be between 6 and 20 characters.\")\n",
    "            return\n",
    "        \n",
    "        Lowercase = string.ascii_lowercase\n",
    "        Uppercase = string.ascii_uppercase\n",
    "        digits = string.digits\n",
    "        symbols = string.punctuation\n",
    "        \n",
    "        all_chars = Lowercase + Uppercase + digits + symbols\n",
    "        \n",
    "        password = [\n",
    "            random.choice(Lowercase),\n",
    "            random.choice(Uppercase),\n",
    "            random.choice(digits),\n",
    "            random.choice(symbols)\n",
    "        ]\n",
    "        \n",
    "        password.extend(random.choice(all_chars) for _ in range(length - 4))\n",
    "        \n",
    "        random.shuffle(password)\n",
    "        \n",
    "        password = ''.join(password)\n",
    "        \n",
    "        print(\"\\nGenerated Password:\")\n",
    "        print(password)\n",
    "        print(\"\\nNote: Make sure to store this password securely!\")\n",
    "    \n",
    "    except Error_Value:\n",
    "        print(\"Please enter a valid number for password length.\")\n",
    "\n",
    "Generate_Password()"
   ]
  },
  {
   "cell_type": "code",
   "execution_count": null,
   "id": "205f4306-cc52-4926-b7bb-0b3254a8bb4c",
   "metadata": {},
   "outputs": [],
   "source": []
  }
 ],
 "metadata": {
  "kernelspec": {
   "display_name": "Python [conda env:base] *",
   "language": "python",
   "name": "conda-base-py"
  },
  "language_info": {
   "codemirror_mode": {
    "name": "ipython",
    "version": 3
   },
   "file_extension": ".py",
   "mimetype": "text/x-python",
   "name": "python",
   "nbconvert_exporter": "python",
   "pygments_lexer": "ipython3",
   "version": "3.12.7"
  }
 },
 "nbformat": 4,
 "nbformat_minor": 5
}
