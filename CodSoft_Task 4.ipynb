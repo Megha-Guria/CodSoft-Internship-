{
 "cells": [
  {
   "cell_type": "code",
   "execution_count": 17,
   "id": "a273b739-0ad9-453c-bb02-51bb124dff91",
   "metadata": {},
   "outputs": [
    {
     "name": "stdout",
     "output_type": "stream",
     "text": [
      "Welcome to Rock, Paper, Scissors!\n",
      "Game Rules:\n",
      "(i) Rock beats Scissors\n",
      "(ii) Scissors beat Paper\n",
      "(iii) Paper beats Rock\n",
      "\n",
      "Choose one:\n",
      "1. Rock\n",
      "2. Paper\n",
      "3. Scissors\n"
     ]
    },
    {
     "name": "stdin",
     "output_type": "stream",
     "text": [
      "Enter your choice (1-3):  3\n"
     ]
    },
    {
     "name": "stdout",
     "output_type": "stream",
     "text": [
      "\n",
      "You chose: Scissors\n",
      "Computer chose: Rock\n",
      "Rock beats Scissors. Computer wins!\n",
      "\n",
      "Current Scores - You: 0 | Computer: 1\n"
     ]
    },
    {
     "name": "stdin",
     "output_type": "stream",
     "text": [
      "\n",
      "Do you want to play again? (yes/no):  yes\n"
     ]
    },
    {
     "name": "stdout",
     "output_type": "stream",
     "text": [
      "\n",
      "Choose one:\n",
      "1. Rock\n",
      "2. Paper\n",
      "3. Scissors\n"
     ]
    },
    {
     "name": "stdin",
     "output_type": "stream",
     "text": [
      "Enter your choice (1-3):  2\n"
     ]
    },
    {
     "name": "stdout",
     "output_type": "stream",
     "text": [
      "\n",
      "You chose: Paper\n",
      "Computer chose: Rock\n",
      "Paper beats Rock. You win!\n",
      "\n",
      "Current Scores - You: 1 | Computer: 1\n"
     ]
    },
    {
     "name": "stdin",
     "output_type": "stream",
     "text": [
      "\n",
      "Do you want to play again? (yes/no):  yes\n"
     ]
    },
    {
     "name": "stdout",
     "output_type": "stream",
     "text": [
      "\n",
      "Choose one:\n",
      "1. Rock\n",
      "2. Paper\n",
      "3. Scissors\n"
     ]
    },
    {
     "name": "stdin",
     "output_type": "stream",
     "text": [
      "Enter your choice (1-3):  1\n"
     ]
    },
    {
     "name": "stdout",
     "output_type": "stream",
     "text": [
      "\n",
      "You chose: Rock\n",
      "Computer chose: Rock\n",
      "It's a tie!\n",
      "\n",
      "Current Scores - You: 1 | Computer: 1\n"
     ]
    },
    {
     "name": "stdin",
     "output_type": "stream",
     "text": [
      "\n",
      "Do you want to play again? (yes/no):  no\n"
     ]
    },
    {
     "name": "stdout",
     "output_type": "stream",
     "text": [
      "\n",
      "Final Scores:\n",
      "You: 1\n",
      "Computer: 1\n",
      "The game ended in a tie!\n",
      "\n",
      "Thanks for playing!\n"
     ]
    }
   ],
   "source": [
    "import random\n",
    "\n",
    "def PlayGame():\n",
    "    UserScore = 0\n",
    "    ComputerScore = 0\n",
    "    \n",
    "    print(\"Welcome to Rock, Paper, Scissors!\")\n",
    "    print(\"Game Rules:\")\n",
    "    print(\"(i) Rock beats Scissors\")\n",
    "    print(\"(ii) Scissors beat Paper\")\n",
    "    print(\"(iii) Paper beats Rock\")\n",
    "    while True:\n",
    "        print(\"\\nChoose one:\")\n",
    "        print(\"1. Rock\")\n",
    "        print(\"2. Paper\")\n",
    "        print(\"3. Scissors\")\n",
    "        \n",
    "        while True:\n",
    "            try:\n",
    "                UserChoice = int(input(\"Enter your choice (1-3): \"))\n",
    "                if 1 <= UserChoice <= 3:\n",
    "                    break\n",
    "                else:\n",
    "                    print(\"Please enter a number between 1 and 3.\")\n",
    "            except ValueError:\n",
    "                print(\"Invalid input. Please enter a number.\")\n",
    "        \n",
    "        choices = {1: \"Rock\", 2: \"Paper\", 3: \"Scissors\"}\n",
    "        UserChoice_name = choices[UserChoice]\n",
    "        \n",
    "        computer_choice = random.randint(1, 3)\n",
    "        computer_choice_name = choices[computer_choice]\n",
    "        \n",
    "        print(f\"\\nYou chose: {UserChoice_name}\")\n",
    "        print(f\"Computer chose: {computer_choice_name}\")\n",
    "        \n",
    "        if UserChoice == computer_choice:\n",
    "            print(\"It's a tie!\")\n",
    "        elif (UserChoice == 1 and computer_choice == 3) or \\\n",
    "             (UserChoice == 2 and computer_choice == 1) or \\\n",
    "             (UserChoice == 3 and computer_choice == 2):\n",
    "            print(f\"{UserChoice_name} beats {computer_choice_name}. You win!\")\n",
    "            UserScore += 1\n",
    "        else:\n",
    "            print(f\"{computer_choice_name} beats {UserChoice_name}. Computer wins!\")\n",
    "            ComputerScore += 1\n",
    "        \n",
    "        print(f\"\\nCurrent Scores - You: {UserScore} | Computer: {ComputerScore}\")\n",
    "        \n",
    "        play_again = input(\"\\nDo you want to play again? (yes/no): \").lower()\n",
    "        if play_again != 'yes':\n",
    "            print(\"\\nFinal Scores:\")\n",
    "            print(f\"You: {UserScore}\")\n",
    "            print(f\"Computer: {ComputerScore}\")\n",
    "            if UserScore > ComputerScore:\n",
    "                print(\"Congratulations! You won the game!\")\n",
    "            elif UserScore < ComputerScore:\n",
    "                print(\"Computer won the game. Better luck next time!\")\n",
    "            else:\n",
    "                print(\"The game ended in a tie!\")\n",
    "            print(\"\\nThanks for playing!\")\n",
    "            break\n",
    "\n",
    "PlayGame()"
   ]
  },
  {
   "cell_type": "code",
   "execution_count": null,
   "id": "b091f922-5171-43a0-bb92-cfacc8862fdf",
   "metadata": {},
   "outputs": [],
   "source": []
  }
 ],
 "metadata": {
  "kernelspec": {
   "display_name": "Python [conda env:base] *",
   "language": "python",
   "name": "conda-base-py"
  },
  "language_info": {
   "codemirror_mode": {
    "name": "ipython",
    "version": 3
   },
   "file_extension": ".py",
   "mimetype": "text/x-python",
   "name": "python",
   "nbconvert_exporter": "python",
   "pygments_lexer": "ipython3",
   "version": "3.12.7"
  }
 },
 "nbformat": 4,
 "nbformat_minor": 5
}
